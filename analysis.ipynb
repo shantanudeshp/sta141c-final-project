{
 "cells": [
  {
   "cell_type": "code",
   "execution_count": 2,
   "metadata": {},
   "outputs": [
    {
     "name": "stdout",
     "output_type": "stream",
     "text": [
      "Collecting xgboost\n",
      "  Downloading xgboost-3.0.2-py3-none-macosx_10_15_x86_64.whl.metadata (2.1 kB)\n",
      "Requirement already satisfied: numpy in /opt/miniconda3/envs/myenv/lib/python3.10/site-packages (from xgboost) (1.26.4)\n",
      "Requirement already satisfied: scipy in /opt/miniconda3/envs/myenv/lib/python3.10/site-packages (from xgboost) (1.11.4)\n",
      "Downloading xgboost-3.0.2-py3-none-macosx_10_15_x86_64.whl (2.2 MB)\n",
      "\u001b[2K   \u001b[90m━━━━━━━━━━━━━━━━━━━━━━━━━━━━━━━━━━━━━━━━\u001b[0m \u001b[32m2.2/2.2 MB\u001b[0m \u001b[31m11.5 MB/s\u001b[0m eta \u001b[36m0:00:00\u001b[0ma \u001b[36m0:00:01\u001b[0m\n",
      "\u001b[?25hInstalling collected packages: xgboost\n",
      "Successfully installed xgboost-3.0.2\n",
      "Note: you may need to restart the kernel to use updated packages.\n"
     ]
    }
   ],
   "source": [
    "pip install xgboost"
   ]
  },
  {
   "cell_type": "code",
   "execution_count": 3,
   "metadata": {
    "vscode": {
     "languageId": "plaintext"
    }
   },
   "outputs": [],
   "source": [
    "import pandas as pd\n",
    "import numpy as np\n",
    "import matplotlib.pyplot as plt\n",
    "import seaborn as sns\n",
    "\n",
    "from sklearn.model_selection import train_test_split\n",
    "from sklearn.preprocessing import StandardScaler, OneHotEncoder, LabelEncoder\n",
    "from sklearn.compose import ColumnTransformer\n",
    "from sklearn.pipeline import Pipeline\n",
    "from sklearn.metrics import accuracy_score, classification_report, confusion_matrix\n",
    "\n",
    "# Models\n",
    "from sklearn.linear_model import LogisticRegression\n",
    "from sklearn.ensemble import RandomForestClassifier\n",
    "from sklearn.neighbors import KNeighborsClassifier\n",
    "import xgboost as xgb\n",
    "\n",
    "# Set a random seed for reproducibility\n",
    "RANDOM_STATE = 42"
   ]
  },
  {
   "cell_type": "code",
   "execution_count": 4,
   "metadata": {
    "vscode": {
     "languageId": "plaintext"
    }
   },
   "outputs": [],
   "source": [
    "file_path = 'data/clean_crash_data.csv'\n",
    "df = pd.read_csv(file_path)"
   ]
  },
  {
   "cell_type": "code",
   "execution_count": 5,
   "metadata": {
    "vscode": {
     "languageId": "plaintext"
    }
   },
   "outputs": [
    {
     "data": {
      "text/html": [
       "<div>\n",
       "<style scoped>\n",
       "    .dataframe tbody tr th:only-of-type {\n",
       "        vertical-align: middle;\n",
       "    }\n",
       "\n",
       "    .dataframe tbody tr th {\n",
       "        vertical-align: top;\n",
       "    }\n",
       "\n",
       "    .dataframe thead th {\n",
       "        text-align: right;\n",
       "    }\n",
       "</style>\n",
       "<table border=\"1\" class=\"dataframe\">\n",
       "  <thead>\n",
       "    <tr style=\"text-align: right;\">\n",
       "      <th></th>\n",
       "      <th>CRASH DATETIME</th>\n",
       "      <th>DAY OF WEEK CODE</th>\n",
       "      <th>DAY OF WEEK DESCRIPTION</th>\n",
       "      <th>CRASH CLASSIFICATION CODE</th>\n",
       "      <th>CRASH CLASSIFICATION DESCRIPTION</th>\n",
       "      <th>COLLISION ON PRIVATE PROPERTY</th>\n",
       "      <th>PEDESTRIAN INVOLVED</th>\n",
       "      <th>MANNER OF IMPACT CODE</th>\n",
       "      <th>MANNER OF IMPACT DESCRIPTION</th>\n",
       "      <th>ALCOHOL INVOLVED</th>\n",
       "      <th>...</th>\n",
       "      <th>LONGITUDE</th>\n",
       "      <th>PRIMARY CONTRIBUTING CIRCUMSTANCE CODE</th>\n",
       "      <th>PRIMARY CONTRIBUTING CIRCUMSTANCE DESCRIPTION</th>\n",
       "      <th>SCHOOL BUS INVOLVED CODE</th>\n",
       "      <th>SCHOOL BUS INVOLVED DESCRIPTION</th>\n",
       "      <th>WORK ZONE</th>\n",
       "      <th>WORKERS PRESENT</th>\n",
       "      <th>the_geom</th>\n",
       "      <th>COUNTY CODE</th>\n",
       "      <th>COUNTY NAME</th>\n",
       "    </tr>\n",
       "  </thead>\n",
       "  <tbody>\n",
       "    <tr>\n",
       "      <th>0</th>\n",
       "      <td>11/16/2023 05:10:00 PM +0000</td>\n",
       "      <td>5</td>\n",
       "      <td>Thursday</td>\n",
       "      <td>2</td>\n",
       "      <td>Property Damage Only</td>\n",
       "      <td>N</td>\n",
       "      <td>N</td>\n",
       "      <td>1.0</td>\n",
       "      <td>Front to rear</td>\n",
       "      <td>N</td>\n",
       "      <td>...</td>\n",
       "      <td>-75.59441</td>\n",
       "      <td>8.0</td>\n",
       "      <td>Following too close</td>\n",
       "      <td>0.0</td>\n",
       "      <td>No</td>\n",
       "      <td>N</td>\n",
       "      <td>N</td>\n",
       "      <td>POINT (-75.594409999839 38.657869999717)</td>\n",
       "      <td>S</td>\n",
       "      <td>Sussex</td>\n",
       "    </tr>\n",
       "    <tr>\n",
       "      <th>1</th>\n",
       "      <td>08/21/2022 06:51:00 PM +0000</td>\n",
       "      <td>1</td>\n",
       "      <td>Sunday</td>\n",
       "      <td>3</td>\n",
       "      <td>Personal Injury Crash</td>\n",
       "      <td>N</td>\n",
       "      <td>N</td>\n",
       "      <td>3.0</td>\n",
       "      <td>Angle</td>\n",
       "      <td>N</td>\n",
       "      <td>...</td>\n",
       "      <td>-75.29074</td>\n",
       "      <td>12.0</td>\n",
       "      <td>Driving in a careless or reckless manner</td>\n",
       "      <td>0.0</td>\n",
       "      <td>No</td>\n",
       "      <td>N</td>\n",
       "      <td>N</td>\n",
       "      <td>POINT (-75.290739999562 38.585200000283)</td>\n",
       "      <td>S</td>\n",
       "      <td>Sussex</td>\n",
       "    </tr>\n",
       "    <tr>\n",
       "      <th>2</th>\n",
       "      <td>01/19/2018 04:30:00 PM +0000</td>\n",
       "      <td>6</td>\n",
       "      <td>Friday</td>\n",
       "      <td>2</td>\n",
       "      <td>Property Damage Only</td>\n",
       "      <td>N</td>\n",
       "      <td>N</td>\n",
       "      <td>99.0</td>\n",
       "      <td>Unknown</td>\n",
       "      <td>N</td>\n",
       "      <td>...</td>\n",
       "      <td>-75.05662</td>\n",
       "      <td>99.0</td>\n",
       "      <td>Unknown</td>\n",
       "      <td>0.0</td>\n",
       "      <td>No</td>\n",
       "      <td>N</td>\n",
       "      <td>N</td>\n",
       "      <td>POINT (-75.056620000321 38.538260000222)</td>\n",
       "      <td>S</td>\n",
       "      <td>Sussex</td>\n",
       "    </tr>\n",
       "    <tr>\n",
       "      <th>3</th>\n",
       "      <td>06/05/2018 04:30:00 PM +0000</td>\n",
       "      <td>3</td>\n",
       "      <td>Tuesday</td>\n",
       "      <td>1</td>\n",
       "      <td>Non-Reportable</td>\n",
       "      <td>Y</td>\n",
       "      <td>N</td>\n",
       "      <td>4.0</td>\n",
       "      <td>Sideswipe, same direction</td>\n",
       "      <td>N</td>\n",
       "      <td>...</td>\n",
       "      <td>-75.64020</td>\n",
       "      <td>11.0</td>\n",
       "      <td>Driver inattention, distraction, or fatigue</td>\n",
       "      <td>0.0</td>\n",
       "      <td>No</td>\n",
       "      <td>N</td>\n",
       "      <td>N</td>\n",
       "      <td>POINT (-75.640199999988 39.292560000244)</td>\n",
       "      <td>K</td>\n",
       "      <td>Kent</td>\n",
       "    </tr>\n",
       "    <tr>\n",
       "      <th>4</th>\n",
       "      <td>08/07/2023 01:02:00 PM +0000</td>\n",
       "      <td>2</td>\n",
       "      <td>Monday</td>\n",
       "      <td>1</td>\n",
       "      <td>Non-Reportable</td>\n",
       "      <td>Y</td>\n",
       "      <td>N</td>\n",
       "      <td>1.0</td>\n",
       "      <td>Front to rear</td>\n",
       "      <td>N</td>\n",
       "      <td>...</td>\n",
       "      <td>-75.14624</td>\n",
       "      <td>88.0</td>\n",
       "      <td>Other</td>\n",
       "      <td>0.0</td>\n",
       "      <td>No</td>\n",
       "      <td>N</td>\n",
       "      <td>N</td>\n",
       "      <td>POINT (-75.146239999738 38.740379999925)</td>\n",
       "      <td>S</td>\n",
       "      <td>Sussex</td>\n",
       "    </tr>\n",
       "  </tbody>\n",
       "</table>\n",
       "<p>5 rows × 33 columns</p>\n",
       "</div>"
      ],
      "text/plain": [
       "                 CRASH DATETIME  DAY OF WEEK CODE DAY OF WEEK DESCRIPTION  \\\n",
       "0  11/16/2023 05:10:00 PM +0000                 5                Thursday   \n",
       "1  08/21/2022 06:51:00 PM +0000                 1                  Sunday   \n",
       "2  01/19/2018 04:30:00 PM +0000                 6                  Friday   \n",
       "3  06/05/2018 04:30:00 PM +0000                 3                 Tuesday   \n",
       "4  08/07/2023 01:02:00 PM +0000                 2                  Monday   \n",
       "\n",
       "   CRASH CLASSIFICATION CODE CRASH CLASSIFICATION DESCRIPTION  \\\n",
       "0                          2             Property Damage Only   \n",
       "1                          3            Personal Injury Crash   \n",
       "2                          2             Property Damage Only   \n",
       "3                          1                   Non-Reportable   \n",
       "4                          1                   Non-Reportable   \n",
       "\n",
       "  COLLISION ON PRIVATE PROPERTY PEDESTRIAN INVOLVED  MANNER OF IMPACT CODE  \\\n",
       "0                             N                   N                    1.0   \n",
       "1                             N                   N                    3.0   \n",
       "2                             N                   N                   99.0   \n",
       "3                             Y                   N                    4.0   \n",
       "4                             Y                   N                    1.0   \n",
       "\n",
       "  MANNER OF IMPACT DESCRIPTION ALCOHOL INVOLVED  ... LONGITUDE  \\\n",
       "0                Front to rear                N  ... -75.59441   \n",
       "1                        Angle                N  ... -75.29074   \n",
       "2                      Unknown                N  ... -75.05662   \n",
       "3    Sideswipe, same direction                N  ... -75.64020   \n",
       "4                Front to rear                N  ... -75.14624   \n",
       "\n",
       "   PRIMARY CONTRIBUTING CIRCUMSTANCE CODE  \\\n",
       "0                                     8.0   \n",
       "1                                    12.0   \n",
       "2                                    99.0   \n",
       "3                                    11.0   \n",
       "4                                    88.0   \n",
       "\n",
       "  PRIMARY CONTRIBUTING CIRCUMSTANCE DESCRIPTION  SCHOOL BUS INVOLVED CODE  \\\n",
       "0                           Following too close                       0.0   \n",
       "1      Driving in a careless or reckless manner                       0.0   \n",
       "2                                       Unknown                       0.0   \n",
       "3   Driver inattention, distraction, or fatigue                       0.0   \n",
       "4                                         Other                       0.0   \n",
       "\n",
       "  SCHOOL BUS INVOLVED DESCRIPTION  WORK ZONE WORKERS PRESENT  \\\n",
       "0                              No          N               N   \n",
       "1                              No          N               N   \n",
       "2                              No          N               N   \n",
       "3                              No          N               N   \n",
       "4                              No          N               N   \n",
       "\n",
       "                                   the_geom COUNTY CODE COUNTY NAME  \n",
       "0  POINT (-75.594409999839 38.657869999717)           S      Sussex  \n",
       "1  POINT (-75.290739999562 38.585200000283)           S      Sussex  \n",
       "2  POINT (-75.056620000321 38.538260000222)           S      Sussex  \n",
       "3  POINT (-75.640199999988 39.292560000244)           K        Kent  \n",
       "4  POINT (-75.146239999738 38.740379999925)           S      Sussex  \n",
       "\n",
       "[5 rows x 33 columns]"
      ]
     },
     "execution_count": 5,
     "metadata": {},
     "output_type": "execute_result"
    }
   ],
   "source": [
    "df.head()"
   ]
  },
  {
   "cell_type": "code",
   "execution_count": 6,
   "metadata": {
    "vscode": {
     "languageId": "plaintext"
    }
   },
   "outputs": [
    {
     "data": {
      "text/html": [
       "<div>\n",
       "<style scoped>\n",
       "    .dataframe tbody tr th:only-of-type {\n",
       "        vertical-align: middle;\n",
       "    }\n",
       "\n",
       "    .dataframe tbody tr th {\n",
       "        vertical-align: top;\n",
       "    }\n",
       "\n",
       "    .dataframe thead th {\n",
       "        text-align: right;\n",
       "    }\n",
       "</style>\n",
       "<table border=\"1\" class=\"dataframe\">\n",
       "  <thead>\n",
       "    <tr style=\"text-align: right;\">\n",
       "      <th></th>\n",
       "      <th>DAY OF WEEK CODE</th>\n",
       "      <th>CRASH CLASSIFICATION CODE</th>\n",
       "      <th>MANNER OF IMPACT CODE</th>\n",
       "      <th>ROAD SURFACE CODE</th>\n",
       "      <th>LIGHTING CONDITION CODE</th>\n",
       "      <th>WEATHER 1 CODE</th>\n",
       "      <th>LATITUDE</th>\n",
       "      <th>LONGITUDE</th>\n",
       "      <th>PRIMARY CONTRIBUTING CIRCUMSTANCE CODE</th>\n",
       "      <th>SCHOOL BUS INVOLVED CODE</th>\n",
       "    </tr>\n",
       "  </thead>\n",
       "  <tbody>\n",
       "    <tr>\n",
       "      <th>count</th>\n",
       "      <td>536586.000000</td>\n",
       "      <td>536586.000000</td>\n",
       "      <td>536586.000000</td>\n",
       "      <td>536586.000000</td>\n",
       "      <td>536586.000000</td>\n",
       "      <td>536586.000000</td>\n",
       "      <td>536586.000000</td>\n",
       "      <td>536586.000000</td>\n",
       "      <td>536586.000000</td>\n",
       "      <td>536586.000000</td>\n",
       "    </tr>\n",
       "    <tr>\n",
       "      <th>mean</th>\n",
       "      <td>4.137266</td>\n",
       "      <td>1.887815</td>\n",
       "      <td>10.106969</td>\n",
       "      <td>4.265335</td>\n",
       "      <td>5.180027</td>\n",
       "      <td>4.675756</td>\n",
       "      <td>39.349954</td>\n",
       "      <td>-75.545765</td>\n",
       "      <td>27.124891</td>\n",
       "      <td>0.006949</td>\n",
       "    </tr>\n",
       "    <tr>\n",
       "      <th>std</th>\n",
       "      <td>1.937720</td>\n",
       "      <td>0.657937</td>\n",
       "      <td>26.588401</td>\n",
       "      <td>16.858315</td>\n",
       "      <td>17.177144</td>\n",
       "      <td>17.147124</td>\n",
       "      <td>0.443193</td>\n",
       "      <td>0.159399</td>\n",
       "      <td>34.490747</td>\n",
       "      <td>0.085266</td>\n",
       "    </tr>\n",
       "    <tr>\n",
       "      <th>min</th>\n",
       "      <td>1.000000</td>\n",
       "      <td>1.000000</td>\n",
       "      <td>0.000000</td>\n",
       "      <td>1.000000</td>\n",
       "      <td>1.000000</td>\n",
       "      <td>1.000000</td>\n",
       "      <td>38.451150</td>\n",
       "      <td>-75.788830</td>\n",
       "      <td>1.000000</td>\n",
       "      <td>0.000000</td>\n",
       "    </tr>\n",
       "    <tr>\n",
       "      <th>25%</th>\n",
       "      <td>2.000000</td>\n",
       "      <td>1.000000</td>\n",
       "      <td>1.000000</td>\n",
       "      <td>1.000000</td>\n",
       "      <td>1.000000</td>\n",
       "      <td>1.000000</td>\n",
       "      <td>38.926313</td>\n",
       "      <td>-75.653370</td>\n",
       "      <td>8.000000</td>\n",
       "      <td>0.000000</td>\n",
       "    </tr>\n",
       "    <tr>\n",
       "      <th>50%</th>\n",
       "      <td>4.000000</td>\n",
       "      <td>2.000000</td>\n",
       "      <td>1.000000</td>\n",
       "      <td>1.000000</td>\n",
       "      <td>1.000000</td>\n",
       "      <td>1.000000</td>\n",
       "      <td>39.625930</td>\n",
       "      <td>-75.568290</td>\n",
       "      <td>11.000000</td>\n",
       "      <td>0.000000</td>\n",
       "    </tr>\n",
       "    <tr>\n",
       "      <th>75%</th>\n",
       "      <td>6.000000</td>\n",
       "      <td>2.000000</td>\n",
       "      <td>3.000000</td>\n",
       "      <td>1.000000</td>\n",
       "      <td>4.000000</td>\n",
       "      <td>2.000000</td>\n",
       "      <td>39.720030</td>\n",
       "      <td>-75.511880</td>\n",
       "      <td>17.000000</td>\n",
       "      <td>0.000000</td>\n",
       "    </tr>\n",
       "    <tr>\n",
       "      <th>max</th>\n",
       "      <td>7.000000</td>\n",
       "      <td>4.000000</td>\n",
       "      <td>99.000000</td>\n",
       "      <td>99.000000</td>\n",
       "      <td>99.000000</td>\n",
       "      <td>99.000000</td>\n",
       "      <td>39.839800</td>\n",
       "      <td>-75.050080</td>\n",
       "      <td>99.000000</td>\n",
       "      <td>2.000000</td>\n",
       "    </tr>\n",
       "  </tbody>\n",
       "</table>\n",
       "</div>"
      ],
      "text/plain": [
       "       DAY OF WEEK CODE  CRASH CLASSIFICATION CODE  MANNER OF IMPACT CODE  \\\n",
       "count     536586.000000              536586.000000          536586.000000   \n",
       "mean           4.137266                   1.887815              10.106969   \n",
       "std            1.937720                   0.657937              26.588401   \n",
       "min            1.000000                   1.000000               0.000000   \n",
       "25%            2.000000                   1.000000               1.000000   \n",
       "50%            4.000000                   2.000000               1.000000   \n",
       "75%            6.000000                   2.000000               3.000000   \n",
       "max            7.000000                   4.000000              99.000000   \n",
       "\n",
       "       ROAD SURFACE CODE  LIGHTING CONDITION CODE  WEATHER 1 CODE  \\\n",
       "count      536586.000000            536586.000000   536586.000000   \n",
       "mean            4.265335                 5.180027        4.675756   \n",
       "std            16.858315                17.177144       17.147124   \n",
       "min             1.000000                 1.000000        1.000000   \n",
       "25%             1.000000                 1.000000        1.000000   \n",
       "50%             1.000000                 1.000000        1.000000   \n",
       "75%             1.000000                 4.000000        2.000000   \n",
       "max            99.000000                99.000000       99.000000   \n",
       "\n",
       "            LATITUDE      LONGITUDE  PRIMARY CONTRIBUTING CIRCUMSTANCE CODE  \\\n",
       "count  536586.000000  536586.000000                           536586.000000   \n",
       "mean       39.349954     -75.545765                               27.124891   \n",
       "std         0.443193       0.159399                               34.490747   \n",
       "min        38.451150     -75.788830                                1.000000   \n",
       "25%        38.926313     -75.653370                                8.000000   \n",
       "50%        39.625930     -75.568290                               11.000000   \n",
       "75%        39.720030     -75.511880                               17.000000   \n",
       "max        39.839800     -75.050080                               99.000000   \n",
       "\n",
       "       SCHOOL BUS INVOLVED CODE  \n",
       "count             536586.000000  \n",
       "mean                   0.006949  \n",
       "std                    0.085266  \n",
       "min                    0.000000  \n",
       "25%                    0.000000  \n",
       "50%                    0.000000  \n",
       "75%                    0.000000  \n",
       "max                    2.000000  "
      ]
     },
     "execution_count": 6,
     "metadata": {},
     "output_type": "execute_result"
    }
   ],
   "source": [
    "df.describe()"
   ]
  },
  {
   "cell_type": "code",
   "execution_count": 13,
   "metadata": {
    "vscode": {
     "languageId": "plaintext"
    }
   },
   "outputs": [],
   "source": [
    "target_variable = 'CRASH CLASSIFICATION CODE'"
   ]
  },
  {
   "cell_type": "code",
   "execution_count": 15,
   "metadata": {
    "vscode": {
     "languageId": "plaintext"
    }
   },
   "outputs": [
    {
     "data": {
      "text/plain": [
       "['CRASH DATETIME',\n",
       " 'DAY OF WEEK CODE',\n",
       " 'DAY OF WEEK DESCRIPTION',\n",
       " 'CRASH CLASSIFICATION CODE',\n",
       " 'CRASH CLASSIFICATION DESCRIPTION',\n",
       " 'COLLISION ON PRIVATE PROPERTY',\n",
       " 'PEDESTRIAN INVOLVED',\n",
       " 'MANNER OF IMPACT CODE',\n",
       " 'MANNER OF IMPACT DESCRIPTION',\n",
       " 'ALCOHOL INVOLVED',\n",
       " 'DRUG INVOLVED',\n",
       " 'ROAD SURFACE CODE',\n",
       " 'ROAD SURFACE DESCRIPTION',\n",
       " 'LIGHTING CONDITION CODE',\n",
       " 'LIGHTING CONDITION DESCRIPTION',\n",
       " 'WEATHER 1 CODE',\n",
       " 'WEATHER 1 DESCRIPTION',\n",
       " 'SEATBELT USED',\n",
       " 'MOTORCYCLE INVOLVED',\n",
       " 'MOTORCYCLE HELMET USED',\n",
       " 'BICYCLED INVOLVED',\n",
       " 'BICYCLE HELMET USED',\n",
       " 'LATITUDE',\n",
       " 'LONGITUDE',\n",
       " 'PRIMARY CONTRIBUTING CIRCUMSTANCE CODE',\n",
       " 'PRIMARY CONTRIBUTING CIRCUMSTANCE DESCRIPTION',\n",
       " 'SCHOOL BUS INVOLVED CODE',\n",
       " 'SCHOOL BUS INVOLVED DESCRIPTION',\n",
       " 'WORK ZONE',\n",
       " 'WORKERS PRESENT',\n",
       " 'the_geom',\n",
       " 'COUNTY CODE',\n",
       " 'COUNTY NAME']"
      ]
     },
     "execution_count": 15,
     "metadata": {},
     "output_type": "execute_result"
    }
   ],
   "source": [
    "df.columns.tolist()"
   ]
  },
  {
   "cell_type": "code",
   "execution_count": 41,
   "metadata": {
    "vscode": {
     "languageId": "plaintext"
    }
   },
   "outputs": [],
   "source": [
    "y = df[target_variable]\n",
    "drop_columns = [target_variable, 'the_geom', 'CRASH DATETIME', 'CRASH CLASSIFICATION DESCRIPTION']\n",
    "X = df.drop(columns=drop_columns, axis=1)"
   ]
  },
  {
   "cell_type": "code",
   "execution_count": 42,
   "metadata": {
    "vscode": {
     "languageId": "plaintext"
    }
   },
   "outputs": [],
   "source": [
    "numerical_features = X.select_dtypes(include=np.number).columns.tolist()\n",
    "categorical_features = X.select_dtypes(include=['object', 'category']).columns.tolist()"
   ]
  },
  {
   "cell_type": "code",
   "execution_count": 43,
   "metadata": {
    "vscode": {
     "languageId": "plaintext"
    }
   },
   "outputs": [
    {
     "name": "stdout",
     "output_type": "stream",
     "text": [
      "\n",
      "Identified Numerical features for preprocessing: ['DAY OF WEEK CODE', 'MANNER OF IMPACT CODE', 'ROAD SURFACE CODE', 'LIGHTING CONDITION CODE', 'WEATHER 1 CODE', 'LATITUDE', 'LONGITUDE', 'PRIMARY CONTRIBUTING CIRCUMSTANCE CODE', 'SCHOOL BUS INVOLVED CODE']\n",
      "Identified Categorical features for preprocessing: ['DAY OF WEEK DESCRIPTION', 'COLLISION ON PRIVATE PROPERTY', 'PEDESTRIAN INVOLVED', 'MANNER OF IMPACT DESCRIPTION', 'ALCOHOL INVOLVED', 'DRUG INVOLVED', 'ROAD SURFACE DESCRIPTION', 'LIGHTING CONDITION DESCRIPTION', 'WEATHER 1 DESCRIPTION', 'SEATBELT USED', 'MOTORCYCLE INVOLVED', 'MOTORCYCLE HELMET USED', 'BICYCLED INVOLVED', 'BICYCLE HELMET USED', 'PRIMARY CONTRIBUTING CIRCUMSTANCE DESCRIPTION', 'SCHOOL BUS INVOLVED DESCRIPTION', 'WORK ZONE', 'WORKERS PRESENT', 'COUNTY CODE', 'COUNTY NAME']\n"
     ]
    }
   ],
   "source": [
    "print(f\"\\nIdentified Numerical features for preprocessing: {numerical_features}\")\n",
    "print(f\"Identified Categorical features for preprocessing: {categorical_features}\")"
   ]
  },
  {
   "cell_type": "markdown",
   "metadata": {},
   "source": [
    "XGBoost prefers that we start our indexing at 0."
   ]
  },
  {
   "cell_type": "code",
   "execution_count": 44,
   "metadata": {
    "vscode": {
     "languageId": "plaintext"
    }
   },
   "outputs": [],
   "source": [
    "y_processed = y - 1"
   ]
  },
  {
   "cell_type": "code",
   "execution_count": 45,
   "metadata": {
    "vscode": {
     "languageId": "plaintext"
    }
   },
   "outputs": [
    {
     "name": "stdout",
     "output_type": "stream",
     "text": [
      "\n",
      "Numeric transformer defined:\n",
      "Pipeline(steps=[('scaler', StandardScaler())])\n",
      "\n",
      "Categorical transformer defined:\n",
      "Pipeline(steps=[('onehot',\n",
      "                 OneHotEncoder(handle_unknown='ignore', sparse_output=False))])\n"
     ]
    }
   ],
   "source": [
    "numeric_transformer = Pipeline(steps=[\n",
    "    ('scaler', StandardScaler())\n",
    "])\n",
    "\n",
    "# For categorical features:\n",
    "# We'll use OneHotEncoder.\n",
    "categorical_transformer = Pipeline(steps=[\n",
    "    ('onehot', OneHotEncoder(handle_unknown='ignore', sparse_output=False))\n",
    "])\n",
    "\n",
    "print(\"\\nNumeric transformer defined:\")\n",
    "print(numeric_transformer)\n",
    "print(\"\\nCategorical transformer defined:\")\n",
    "print(categorical_transformer)"
   ]
  },
  {
   "cell_type": "code",
   "execution_count": 46,
   "metadata": {
    "vscode": {
     "languageId": "plaintext"
    }
   },
   "outputs": [
    {
     "name": "stdout",
     "output_type": "stream",
     "text": [
      "\n",
      "Added numeric_transformer for columns: ['DAY OF WEEK CODE', 'MANNER OF IMPACT CODE', 'ROAD SURFACE CODE', 'LIGHTING CONDITION CODE', 'WEATHER 1 CODE', 'LATITUDE', 'LONGITUDE', 'PRIMARY CONTRIBUTING CIRCUMSTANCE CODE', 'SCHOOL BUS INVOLVED CODE']\n",
      "Added categorical_transformer for columns: ['DAY OF WEEK DESCRIPTION', 'COLLISION ON PRIVATE PROPERTY', 'PEDESTRIAN INVOLVED', 'MANNER OF IMPACT DESCRIPTION', 'ALCOHOL INVOLVED', 'DRUG INVOLVED', 'ROAD SURFACE DESCRIPTION', 'LIGHTING CONDITION DESCRIPTION', 'WEATHER 1 DESCRIPTION', 'SEATBELT USED', 'MOTORCYCLE INVOLVED', 'MOTORCYCLE HELMET USED', 'BICYCLED INVOLVED', 'BICYCLE HELMET USED', 'PRIMARY CONTRIBUTING CIRCUMSTANCE DESCRIPTION', 'SCHOOL BUS INVOLVED DESCRIPTION', 'WORK ZONE', 'WORKERS PRESENT', 'COUNTY CODE', 'COUNTY NAME']\n",
      "\n",
      "ColumnTransformer 'preprocessor' created successfully.\n",
      "It's configured to process your specified numerical and categorical columns.\n",
      "\n",
      "The 'preprocessor' object looks like this:\n",
      "ColumnTransformer(remainder='passthrough',\n",
      "                  transformers=[('num',\n",
      "                                 Pipeline(steps=[('scaler', StandardScaler())]),\n",
      "                                 ['DAY OF WEEK CODE', 'MANNER OF IMPACT CODE',\n",
      "                                  'ROAD SURFACE CODE',\n",
      "                                  'LIGHTING CONDITION CODE', 'WEATHER 1 CODE',\n",
      "                                  'LATITUDE', 'LONGITUDE',\n",
      "                                  'PRIMARY CONTRIBUTING CIRCUMSTANCE CODE',\n",
      "                                  'SCHOOL BUS INVOLVED CODE']),\n",
      "                                ('cat',\n",
      "                                 Pipeline(steps=[('onehot',\n",
      "                                                  OneHotEncoder(handle_unkno...\n",
      "                                  'MANNER OF IMPACT DESCRIPTION',\n",
      "                                  'ALCOHOL INVOLVED', 'DRUG INVOLVED',\n",
      "                                  'ROAD SURFACE DESCRIPTION',\n",
      "                                  'LIGHTING CONDITION DESCRIPTION',\n",
      "                                  'WEATHER 1 DESCRIPTION', 'SEATBELT USED',\n",
      "                                  'MOTORCYCLE INVOLVED',\n",
      "                                  'MOTORCYCLE HELMET USED', 'BICYCLED INVOLVED',\n",
      "                                  'BICYCLE HELMET USED',\n",
      "                                  'PRIMARY CONTRIBUTING CIRCUMSTANCE '\n",
      "                                  'DESCRIPTION',\n",
      "                                  'SCHOOL BUS INVOLVED DESCRIPTION',\n",
      "                                  'WORK ZONE', 'WORKERS PRESENT', 'COUNTY CODE',\n",
      "                                  'COUNTY NAME'])])\n"
     ]
    }
   ],
   "source": [
    "# First, we create a list of transformer instructions.\n",
    "# Each instruction is a tuple: (name, transformer_object, list_of_columns_to_apply_it_to)\n",
    "transformers_list = []\n",
    "\n",
    "# Add the numeric transformer instruction IF you have numerical features\n",
    "if numerical_features:  # This list was defined when you inspected your X columns\n",
    "    transformers_list.append(\n",
    "        ('num',                  # A name for this step (e.g., \"numerical processing\")\n",
    "         numeric_transformer,    # The pipeline we defined for numerical data (StandardScaler)\n",
    "         numerical_features)     # The list of column names to apply it to\n",
    "    )\n",
    "    print(f\"\\nAdded numeric_transformer for columns: {numerical_features}\")\n",
    "else:\n",
    "    print(\"\\nNo numerical features to add to the ColumnTransformer.\")\n",
    "\n",
    "# Add the categorical transformer instruction IF you have categorical features\n",
    "if categorical_features: # This list was also defined earlier\n",
    "    transformers_list.append(\n",
    "        ('cat',                  # A name for this step (e.g., \"categorical processing\")\n",
    "         categorical_transformer,# The pipeline we defined for categorical data (OneHotEncoder)\n",
    "         categorical_features)   # The list of column names to apply it to\n",
    "    )\n",
    "    print(f\"Added categorical_transformer for columns: {categorical_features}\")\n",
    "else:\n",
    "    print(\"\\nNo categorical features to add to the ColumnTransformer.\")\n",
    "\n",
    "\n",
    "# Now, create the ColumnTransformer object\n",
    "if not transformers_list:\n",
    "    print(\"\\nWarning: No transformers were added to the list.\")\n",
    "    print(\"This means no columns were specified as numerical or categorical for preprocessing.\")\n",
    "    print(\"The 'preprocessor' will be set to 'passthrough', meaning it won't change your data.\")\n",
    "    preprocessor = 'passthrough' # Or you might want to handle this as an error\n",
    "else:\n",
    "    preprocessor = ColumnTransformer(\n",
    "        transformers=transformers_list,\n",
    "        remainder='passthrough'  # What to do with columns NOT listed in numerical_features or categorical_features\n",
    "                                 # 'passthrough' means keep them as they are.\n",
    "                                 # 'drop' would mean remove them.\n",
    "    )\n",
    "    print(\"\\nColumnTransformer 'preprocessor' created successfully.\")\n",
    "    print(\"It's configured to process your specified numerical and categorical columns.\")\n",
    "\n",
    "# You can print the preprocessor to see its structure\n",
    "print(\"\\nThe 'preprocessor' object looks like this:\")\n",
    "print(preprocessor)"
   ]
  },
  {
   "cell_type": "code",
   "execution_count": 47,
   "metadata": {
    "vscode": {
     "languageId": "plaintext"
    }
   },
   "outputs": [],
   "source": [
    "X_train, X_test, y_train, y_test = train_test_split(\n",
    "    X, y_processed, test_size=0.2, random_state=RANDOM_STATE, stratify=y_processed\n",
    ")"
   ]
  },
  {
   "cell_type": "code",
   "execution_count": 48,
   "metadata": {},
   "outputs": [],
   "source": [
    "if preprocessor == 'passthrough':\n",
    "    print(\"Preprocessor is 'passthrough'. Converting X_train/X_test to numpy arrays if they are DataFrames.\")\n",
    "    X_train_processed = X_train.values if hasattr(X_train, 'values') else X_train\n",
    "    X_test_processed = X_test.values if hasattr(X_test, 'values') else X_test\n",
    "else:\n",
    "    X_train_processed = preprocessor.fit_transform(X_train)\n",
    "    X_test_processed = preprocessor.transform(X_test)"
   ]
  },
  {
   "cell_type": "code",
   "execution_count": 49,
   "metadata": {
    "vscode": {
     "languageId": "plaintext"
    }
   },
   "outputs": [
    {
     "name": "stdout",
     "output_type": "stream",
     "text": [
      "X_train shape: (429268, 29), X_test shape: (107318, 29)\n",
      "y_train shape: (429268,), y_test shape: (107318,)\n"
     ]
    }
   ],
   "source": [
    "print(f\"X_train shape: {X_train.shape}, X_test shape: {X_test.shape}\")\n",
    "print(f\"y_train shape: {y_train.shape}, y_test shape: {y_test.shape}\")"
   ]
  },
  {
   "cell_type": "code",
   "execution_count": 50,
   "metadata": {
    "vscode": {
     "languageId": "plaintext"
    }
   },
   "outputs": [],
   "source": [
    "model_performance = {}\n",
    "class_labels_for_report = None"
   ]
  },
  {
   "cell_type": "code",
   "execution_count": 52,
   "metadata": {
    "vscode": {
     "languageId": "plaintext"
    }
   },
   "outputs": [
    {
     "name": "stdout",
     "output_type": "stream",
     "text": [
      "\n",
      "--- Logistic Regression ---\n",
      "Accuracy: 0.6712\n",
      "Classification Report:\n",
      "               precision    recall  f1-score   support\n",
      "\n",
      "           0       0.81      0.43      0.56     29588\n",
      "           1       0.65      0.94      0.77     60518\n",
      "           2       0.67      0.13      0.21     16877\n",
      "           3       0.53      0.03      0.06       335\n",
      "\n",
      "    accuracy                           0.67    107318\n",
      "   macro avg       0.66      0.38      0.40    107318\n",
      "weighted avg       0.70      0.67      0.62    107318\n",
      "\n"
     ]
    }
   ],
   "source": [
    "print(\"\\n--- Logistic Regression ---\")\n",
    "log_reg = LogisticRegression(random_state=RANDOM_STATE, max_iter=1000, solver='liblinear')\n",
    "log_reg.fit(X_train_processed, y_train)\n",
    "y_pred_log_reg = log_reg.predict(X_test_processed)\n",
    "accuracy_log_reg = accuracy_score(y_test, y_pred_log_reg)\n",
    "report_log_reg = classification_report(y_test, y_pred_log_reg, target_names=class_labels_for_report, zero_division=0)\n",
    "model_performance['Logistic Regression'] = accuracy_log_reg\n",
    "print(f\"Accuracy: {accuracy_log_reg:.4f}\")\n",
    "print(\"Classification Report:\\n\", report_log_reg)"
   ]
  },
  {
   "cell_type": "code",
   "execution_count": 53,
   "metadata": {
    "vscode": {
     "languageId": "plaintext"
    }
   },
   "outputs": [
    {
     "name": "stdout",
     "output_type": "stream",
     "text": [
      "\n",
      "--- Random Forest ---\n",
      "Accuracy: 0.6174\n",
      "Classification Report:\n",
      "               precision    recall  f1-score   support\n",
      "\n",
      "           0       0.61      0.53      0.57     29588\n",
      "           1       0.66      0.76      0.71     60518\n",
      "           2       0.38      0.27      0.31     16877\n",
      "           3       0.35      0.13      0.18       335\n",
      "\n",
      "    accuracy                           0.62    107318\n",
      "   macro avg       0.50      0.42      0.44    107318\n",
      "weighted avg       0.60      0.62      0.61    107318\n",
      "\n"
     ]
    }
   ],
   "source": [
    "print(\"\\n--- Random Forest ---\")\n",
    "rf_clf = RandomForestClassifier(random_state=RANDOM_STATE, n_estimators=100)\n",
    "rf_clf.fit(X_train_processed, y_train)\n",
    "y_pred_rf = rf_clf.predict(X_test_processed)\n",
    "accuracy_rf = accuracy_score(y_test, y_pred_rf)\n",
    "report_rf = classification_report(y_test, y_pred_rf, target_names=class_labels_for_report, zero_division=0)\n",
    "model_performance['Random Forest'] = accuracy_rf\n",
    "print(f\"Accuracy: {accuracy_rf:.4f}\")\n",
    "print(\"Classification Report:\\n\", report_rf)"
   ]
  },
  {
   "cell_type": "code",
   "execution_count": 54,
   "metadata": {
    "vscode": {
     "languageId": "plaintext"
    }
   },
   "outputs": [
    {
     "name": "stdout",
     "output_type": "stream",
     "text": [
      "\n",
      "--- K-Nearest Neighbors (KNN) ---\n",
      "Accuracy: 0.6166\n",
      "Classification Report:\n",
      "               precision    recall  f1-score   support\n",
      "\n",
      "           0       0.57      0.53      0.55     29588\n",
      "           1       0.65      0.78      0.71     60518\n",
      "           2       0.42      0.19      0.26     16877\n",
      "           3       0.45      0.04      0.08       335\n",
      "\n",
      "    accuracy                           0.62    107318\n",
      "   macro avg       0.53      0.39      0.40    107318\n",
      "weighted avg       0.59      0.62      0.59    107318\n",
      "\n"
     ]
    }
   ],
   "source": [
    "print(\"\\n--- K-Nearest Neighbors (KNN) ---\")\n",
    "knn_clf = KNeighborsClassifier(n_neighbors=5)\n",
    "knn_clf.fit(X_train_processed, y_train)\n",
    "y_pred_knn = knn_clf.predict(X_test_processed)\n",
    "accuracy_knn = accuracy_score(y_test, y_pred_knn)\n",
    "report_knn = classification_report(y_test, y_pred_knn, target_names=class_labels_for_report, zero_division=0)\n",
    "model_performance['KNN'] = accuracy_knn\n",
    "print(f\"Accuracy: {accuracy_knn:.4f}\")\n",
    "print(\"Classification Report:\\n\", report_knn)"
   ]
  },
  {
   "cell_type": "code",
   "execution_count": 55,
   "metadata": {
    "vscode": {
     "languageId": "plaintext"
    }
   },
   "outputs": [
    {
     "name": "stdout",
     "output_type": "stream",
     "text": [
      "\n",
      "--- XGBoost ---\n"
     ]
    },
    {
     "name": "stderr",
     "output_type": "stream",
     "text": [
      "/opt/miniconda3/envs/myenv/lib/python3.10/site-packages/xgboost/training.py:183: UserWarning: [22:07:26] WARNING: /Users/runner/work/xgboost/xgboost/src/learner.cc:738: \n",
      "Parameters: { \"use_label_encoder\" } are not used.\n",
      "\n",
      "  bst.update(dtrain, iteration=i, fobj=obj)\n"
     ]
    },
    {
     "name": "stdout",
     "output_type": "stream",
     "text": [
      "Accuracy: 0.6784\n",
      "Classification Report:\n",
      "               precision    recall  f1-score   support\n",
      "\n",
      "           0       0.78      0.48      0.59     29588\n",
      "           1       0.66      0.93      0.77     60518\n",
      "           2       0.65      0.15      0.24     16877\n",
      "           3       0.55      0.16      0.25       335\n",
      "\n",
      "    accuracy                           0.68    107318\n",
      "   macro avg       0.66      0.43      0.46    107318\n",
      "weighted avg       0.69      0.68      0.64    107318\n",
      "\n"
     ]
    }
   ],
   "source": [
    "print(\"\\n--- XGBoost ---\")\n",
    "# y_train should be 0-indexed for XGBoost, which y_processed should be.\n",
    "xgb_clf = xgb.XGBClassifier(random_state=RANDOM_STATE, use_label_encoder=False, eval_metric='mlogloss')\n",
    "xgb_clf.fit(X_train_processed, y_train)\n",
    "y_pred_xgb = xgb_clf.predict(X_test_processed)\n",
    "accuracy_xgb = accuracy_score(y_test, y_pred_xgb)\n",
    "report_xgb = classification_report(y_test, y_pred_xgb, target_names=class_labels_for_report, zero_division=0)\n",
    "model_performance['XGBoost'] = accuracy_xgb\n",
    "print(f\"Accuracy: {accuracy_xgb:.4f}\")\n",
    "print(\"Classification Report:\\n\", report_xgb)"
   ]
  },
  {
   "cell_type": "code",
   "execution_count": 56,
   "metadata": {
    "vscode": {
     "languageId": "plaintext"
    }
   },
   "outputs": [
    {
     "name": "stdout",
     "output_type": "stream",
     "text": [
      "\n",
      "--- Model Performance Summary (Accuracy) ---\n",
      "                     Accuracy\n",
      "XGBoost              0.678442\n",
      "Logistic Regression  0.671201\n",
      "Random Forest        0.617436\n",
      "KNN                  0.616597\n"
     ]
    }
   ],
   "source": [
    "print(\"\\n--- Model Performance Summary (Accuracy) ---\")\n",
    "performance_df = pd.DataFrame.from_dict(model_performance, orient='index', columns=['Accuracy'])\n",
    "print(performance_df.sort_values(by='Accuracy', ascending=False))"
   ]
  },
  {
   "cell_type": "code",
   "execution_count": null,
   "metadata": {
    "vscode": {
     "languageId": "plaintext"
    }
   },
   "outputs": [],
   "source": []
  }
 ],
 "metadata": {
  "kernelspec": {
   "display_name": "Python (myenv)",
   "language": "python",
   "name": "myenv"
  },
  "language_info": {
   "codemirror_mode": {
    "name": "ipython",
    "version": 3
   },
   "file_extension": ".py",
   "mimetype": "text/x-python",
   "name": "python",
   "nbconvert_exporter": "python",
   "pygments_lexer": "ipython3",
   "version": "3.10.16"
  }
 },
 "nbformat": 4,
 "nbformat_minor": 4
}
